{
 "cells": [
  {
   "cell_type": "code",
   "execution_count": 1,
   "id": "951c2216",
   "metadata": {
    "execution": {
     "iopub.execute_input": "2023-10-18T19:26:25.000866Z",
     "iopub.status.busy": "2023-10-18T19:26:25.000577Z",
     "iopub.status.idle": "2023-10-18T19:26:25.975165Z",
     "shell.execute_reply": "2023-10-18T19:26:25.974315Z"
    },
    "papermill": {
     "duration": 0.97978,
     "end_time": "2023-10-18T19:26:25.976983",
     "exception": false,
     "start_time": "2023-10-18T19:26:24.997203",
     "status": "completed"
    },
    "tags": []
   },
   "outputs": [
    {
     "name": "stdout",
     "output_type": "stream",
     "text": [
      "rm: cannot remove '/kaggle/working/text-detoxification': No such file or directory\r\n"
     ]
    }
   ],
   "source": [
    "!rm -r /kaggle/working/text-detoxification"
   ]
  },
  {
   "cell_type": "code",
   "execution_count": 2,
   "id": "2b1d0588",
   "metadata": {
    "execution": {
     "iopub.execute_input": "2023-10-18T19:26:25.982162Z",
     "iopub.status.busy": "2023-10-18T19:26:25.981500Z",
     "iopub.status.idle": "2023-10-18T19:26:32.625822Z",
     "shell.execute_reply": "2023-10-18T19:26:32.624835Z"
    },
    "papermill": {
     "duration": 6.648802,
     "end_time": "2023-10-18T19:26:32.627669",
     "exception": false,
     "start_time": "2023-10-18T19:26:25.978867",
     "status": "completed"
    },
    "tags": []
   },
   "outputs": [
    {
     "name": "stdout",
     "output_type": "stream",
     "text": [
      "Cloning into 'text-detoxification'...\r\n",
      "remote: Enumerating objects: 737, done.\u001b[K\r\n",
      "remote: Counting objects: 100% (281/281), done.\u001b[K\r\n",
      "remote: Compressing objects: 100% (187/187), done.\u001b[K\r\n",
      "remote: Total 737 (delta 137), reused 212 (delta 85), pack-reused 456\u001b[K\r\n",
      "Receiving objects: 100% (737/737), 125.79 MiB | 34.42 MiB/s, done.\r\n",
      "Resolving deltas: 100% (304/304), done.\r\n"
     ]
    }
   ],
   "source": [
    "!git clone https://github.com/Nagim123/text-detoxification.git"
   ]
  },
  {
   "cell_type": "code",
   "execution_count": 3,
   "id": "ac0389b9",
   "metadata": {
    "execution": {
     "iopub.execute_input": "2023-10-18T19:26:32.634180Z",
     "iopub.status.busy": "2023-10-18T19:26:32.633544Z",
     "iopub.status.idle": "2023-10-18T19:28:06.353852Z",
     "shell.execute_reply": "2023-10-18T19:28:06.352944Z"
    },
    "papermill": {
     "duration": 93.725635,
     "end_time": "2023-10-18T19:28:06.355873",
     "exception": false,
     "start_time": "2023-10-18T19:26:32.630238",
     "status": "completed"
    },
    "tags": []
   },
   "outputs": [
    {
     "name": "stdout",
     "output_type": "stream",
     "text": [
      "/opt/conda/lib/python3.10/site-packages/scipy/__init__.py:146: UserWarning: A NumPy version >=1.16.5 and <1.23.0 is required for this version of SciPy (detected version 1.23.5\r\n",
      "  warnings.warn(f\"A NumPy version >={np_minversion} and <{np_maxversion}\"\r\n",
      "100%|████████████████████████████████| 489290/489290 [00:17<00:00, 28679.80it/s]\r\n",
      "100%|████████████████████████████████| 489290/489290 [00:17<00:00, 28112.60it/s]\r\n",
      "100%|███████████████████████████████| 489290/489290 [00:02<00:00, 214118.70it/s]\r\n",
      "100%|███████████████████████████████| 489290/489290 [00:02<00:00, 183253.78it/s]\r\n"
     ]
    }
   ],
   "source": [
    "!python /kaggle/working/text-detoxification/src/data/make_dataset.py --logging"
   ]
  },
  {
   "cell_type": "code",
   "execution_count": 4,
   "id": "86b3a1ed",
   "metadata": {
    "execution": {
     "iopub.execute_input": "2023-10-18T19:28:06.391797Z",
     "iopub.status.busy": "2023-10-18T19:28:06.391506Z",
     "iopub.status.idle": "2023-10-18T23:21:07.157399Z",
     "shell.execute_reply": "2023-10-18T23:21:07.156435Z"
    },
    "papermill": {
     "duration": 13980.785529,
     "end_time": "2023-10-18T23:21:07.159314",
     "exception": false,
     "start_time": "2023-10-18T19:28:06.373785",
     "status": "completed"
    },
    "tags": []
   },
   "outputs": [
    {
     "name": "stdout",
     "output_type": "stream",
     "text": [
      "Epoch: 0\r\n",
      "100%|████████████████████████████| 5352/5352 [20:01<00:00,  4.45it/s, loss=4.41]\r\n",
      "100%|████████████████████████████| 2294/2294 [03:02<00:00, 12.59it/s, loss=4.07]\r\n",
      "Average train loss:4.454709285978779 \r\n",
      " Average validation loss:4.1676691656229075\r\n",
      "Epoch: 1\r\n",
      "100%|█████████████████████████████| 5352/5352 [20:13<00:00,  4.41it/s, loss=4.2]\r\n",
      "100%|████████████████████████████| 2294/2294 [03:02<00:00, 12.57it/s, loss=3.89]\r\n",
      "Average train loss:4.0819513843198525 \r\n",
      " Average validation loss:4.010670285694684\r\n",
      "Epoch: 2\r\n",
      "100%|████████████████████████████| 5352/5352 [20:14<00:00,  4.41it/s, loss=4.06]\r\n",
      "100%|████████████████████████████| 2294/2294 [03:02<00:00, 12.55it/s, loss=3.78]\r\n",
      "Average train loss:3.913300971858348 \r\n",
      " Average validation loss:3.943573508246005\r\n",
      "Epoch: 3\r\n",
      "100%|████████████████████████████| 5352/5352 [20:14<00:00,  4.41it/s, loss=3.93]\r\n",
      "100%|████████████████████████████| 2294/2294 [03:02<00:00, 12.56it/s, loss=3.73]\r\n",
      "Average train loss:3.786763811726207 \r\n",
      " Average validation loss:3.9245649273746825\r\n",
      "Epoch: 4\r\n",
      "100%|████████████████████████████| 5352/5352 [20:16<00:00,  4.40it/s, loss=3.81]\r\n",
      "100%|████████████████████████████| 2294/2294 [03:03<00:00, 12.51it/s, loss=3.72]\r\n",
      "Average train loss:3.6800567017720596 \r\n",
      " Average validation loss:3.9334121280477268\r\n",
      "Epoch: 5\r\n",
      "100%|████████████████████████████| 5352/5352 [20:15<00:00,  4.40it/s, loss=3.66]\r\n",
      "100%|████████████████████████████| 2294/2294 [03:03<00:00, 12.50it/s, loss=3.73]\r\n",
      "Average train loss:3.5820578327806185 \r\n",
      " Average validation loss:3.9636799076274882\r\n",
      "Epoch: 6\r\n",
      "100%|████████████████████████████| 5352/5352 [20:13<00:00,  4.41it/s, loss=3.61]\r\n",
      "100%|████████████████████████████| 2294/2294 [03:03<00:00, 12.51it/s, loss=3.83]\r\n",
      "Average train loss:3.4933295303841523 \r\n",
      " Average validation loss:4.005253084036404\r\n",
      "Epoch: 7\r\n",
      "100%|████████████████████████████| 5352/5352 [20:15<00:00,  4.40it/s, loss=3.47]\r\n",
      "100%|████████████████████████████| 2294/2294 [03:02<00:00, 12.54it/s, loss=3.85]\r\n",
      "Average train loss:3.41256214439958 \r\n",
      " Average validation loss:4.046771788659465\r\n",
      "Epoch: 8\r\n",
      "100%|█████████████████████████████| 5352/5352 [20:15<00:00,  4.40it/s, loss=3.4]\r\n",
      "100%|████████████████████████████| 2294/2294 [03:03<00:00, 12.52it/s, loss=3.92]\r\n",
      "Average train loss:3.3405311734419767 \r\n",
      " Average validation loss:4.101999600451203\r\n",
      "Epoch: 9\r\n",
      "100%|████████████████████████████| 5352/5352 [20:13<00:00,  4.41it/s, loss=3.35]\r\n",
      "100%|████████████████████████████| 2294/2294 [03:03<00:00, 12.50it/s, loss=3.97]\r\n",
      "Average train loss:3.27446386712549 \r\n",
      " Average validation loss:4.162390490355654\r\n"
     ]
    }
   ],
   "source": [
    "!python /kaggle/working/text-detoxification/src/models/train_model.py lstm --epochs 10 --batch_size 64"
   ]
  },
  {
   "cell_type": "code",
   "execution_count": null,
   "id": "17157159",
   "metadata": {
    "papermill": {
     "duration": 4.170226,
     "end_time": "2023-10-18T23:21:15.447283",
     "exception": false,
     "start_time": "2023-10-18T23:21:11.277057",
     "status": "completed"
    },
    "tags": []
   },
   "outputs": [],
   "source": []
  }
 ],
 "metadata": {
  "kernelspec": {
   "display_name": "Python 3",
   "language": "python",
   "name": "python3"
  },
  "language_info": {
   "codemirror_mode": {
    "name": "ipython",
    "version": 3
   },
   "file_extension": ".py",
   "mimetype": "text/x-python",
   "name": "python",
   "nbconvert_exporter": "python",
   "pygments_lexer": "ipython3",
   "version": "3.10.12"
  },
  "papermill": {
   "default_parameters": {},
   "duration": 14097.876221,
   "end_time": "2023-10-18T23:21:19.742333",
   "environment_variables": {},
   "exception": null,
   "input_path": "__notebook__.ipynb",
   "output_path": "__notebook__.ipynb",
   "parameters": {},
   "start_time": "2023-10-18T19:26:21.866112",
   "version": "2.4.0"
  }
 },
 "nbformat": 4,
 "nbformat_minor": 5
}
