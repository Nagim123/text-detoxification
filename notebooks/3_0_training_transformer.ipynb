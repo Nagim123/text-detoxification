{
 "cells": [
  {
   "cell_type": "code",
   "execution_count": 1,
   "id": "3fd8d0fa",
   "metadata": {
    "execution": {
     "iopub.execute_input": "2023-10-08T14:30:09.764414Z",
     "iopub.status.busy": "2023-10-08T14:30:09.764026Z",
     "iopub.status.idle": "2023-10-08T14:30:10.760182Z",
     "shell.execute_reply": "2023-10-08T14:30:10.759080Z"
    },
    "papermill": {
     "duration": 1.001877,
     "end_time": "2023-10-08T14:30:10.762349",
     "exception": false,
     "start_time": "2023-10-08T14:30:09.760472",
     "status": "completed"
    },
    "tags": []
   },
   "outputs": [
    {
     "name": "stdout",
     "output_type": "stream",
     "text": [
      "rm: cannot remove '/kaggle/working/text-detoxification': No such file or directory\r\n"
     ]
    }
   ],
   "source": [
    "!rm -r /kaggle/working/text-detoxification"
   ]
  },
  {
   "cell_type": "code",
   "execution_count": 2,
   "id": "f4297ee3",
   "metadata": {
    "execution": {
     "iopub.execute_input": "2023-10-08T14:30:10.767382Z",
     "iopub.status.busy": "2023-10-08T14:30:10.767010Z",
     "iopub.status.idle": "2023-10-08T14:30:24.425563Z",
     "shell.execute_reply": "2023-10-08T14:30:24.424442Z"
    },
    "papermill": {
     "duration": 13.663727,
     "end_time": "2023-10-08T14:30:24.427985",
     "exception": false,
     "start_time": "2023-10-08T14:30:10.764258",
     "status": "completed"
    },
    "tags": []
   },
   "outputs": [
    {
     "name": "stdout",
     "output_type": "stream",
     "text": [
      "Cloning into 'text-detoxification'...\r\n",
      "remote: Enumerating objects: 433, done.\u001b[K\r\n",
      "remote: Counting objects: 100% (154/154), done.\u001b[K\r\n",
      "remote: Compressing objects: 100% (117/117), done.\u001b[K\r\n",
      "remote: Total 433 (delta 48), reused 125 (delta 27), pack-reused 279\u001b[K\r\n",
      "Receiving objects: 100% (433/433), 251.09 MiB | 25.80 MiB/s, done.\r\n",
      "Resolving deltas: 100% (178/178), done.\r\n"
     ]
    }
   ],
   "source": [
    "!git clone https://github.com/Nagim123/text-detoxification.git --branch lstm"
   ]
  },
  {
   "cell_type": "code",
   "execution_count": 3,
   "id": "e05340a5",
   "metadata": {
    "execution": {
     "iopub.execute_input": "2023-10-08T14:30:24.435729Z",
     "iopub.status.busy": "2023-10-08T14:30:24.435179Z",
     "iopub.status.idle": "2023-10-08T14:31:58.575220Z",
     "shell.execute_reply": "2023-10-08T14:31:58.573813Z"
    },
    "papermill": {
     "duration": 94.146525,
     "end_time": "2023-10-08T14:31:58.577718",
     "exception": false,
     "start_time": "2023-10-08T14:30:24.431193",
     "status": "completed"
    },
    "tags": []
   },
   "outputs": [
    {
     "name": "stdout",
     "output_type": "stream",
     "text": [
      "/opt/conda/lib/python3.10/site-packages/scipy/__init__.py:146: UserWarning: A NumPy version >=1.16.5 and <1.23.0 is required for this version of SciPy (detected version 1.23.5\r\n",
      "  warnings.warn(f\"A NumPy version >={np_minversion} and <{np_maxversion}\"\r\n",
      "100%|████████████████████████████████| 489290/489290 [00:19<00:00, 25721.25it/s]\r\n",
      "100%|████████████████████████████████| 489290/489290 [00:19<00:00, 25478.54it/s]\r\n"
     ]
    }
   ],
   "source": [
    "!python /kaggle/working/text-detoxification/src/data/make_dataset.py --logging"
   ]
  },
  {
   "cell_type": "code",
   "execution_count": 4,
   "id": "9d891ba5",
   "metadata": {
    "execution": {
     "iopub.execute_input": "2023-10-08T14:31:58.617406Z",
     "iopub.status.busy": "2023-10-08T14:31:58.616304Z",
     "iopub.status.idle": "2023-10-08T18:24:03.983176Z",
     "shell.execute_reply": "2023-10-08T18:24:03.982079Z"
    },
    "papermill": {
     "duration": 13925.388497,
     "end_time": "2023-10-08T18:24:03.985361",
     "exception": false,
     "start_time": "2023-10-08T14:31:58.596864",
     "status": "completed"
    },
    "tags": []
   },
   "outputs": [
    {
     "name": "stdout",
     "output_type": "stream",
     "text": [
      "100%|████████████████████████████| 5352/5352 [19:54<00:00,  4.48it/s, loss=2.91]\r\n",
      "100%|████████████████████████████| 2294/2294 [02:50<00:00, 13.46it/s, loss=2.58]\r\n",
      "SAVE MODEL\r\n",
      "100%|████████████████████████████| 5352/5352 [20:01<00:00,  4.46it/s, loss=2.57]\r\n",
      "100%|████████████████████████████| 2294/2294 [02:51<00:00, 13.40it/s, loss=2.37]\r\n",
      "SAVE MODEL\r\n",
      "100%|████████████████████████████| 5352/5352 [20:05<00:00,  4.44it/s, loss=2.42]\r\n",
      "100%|████████████████████████████| 2294/2294 [02:53<00:00, 13.26it/s, loss=2.25]\r\n",
      "SAVE MODEL\r\n",
      "100%|████████████████████████████| 5352/5352 [20:10<00:00,  4.42it/s, loss=2.28]\r\n",
      "100%|████████████████████████████| 2294/2294 [02:54<00:00, 13.17it/s, loss=2.22]\r\n",
      "SAVE MODEL\r\n",
      "100%|████████████████████████████| 5352/5352 [20:16<00:00,  4.40it/s, loss=2.18]\r\n",
      "100%|████████████████████████████| 2294/2294 [02:56<00:00, 13.00it/s, loss=2.12]\r\n",
      "SAVE MODEL\r\n",
      "100%|█████████████████████████████| 5352/5352 [20:20<00:00,  4.38it/s, loss=2.1]\r\n",
      "100%|████████████████████████████| 2294/2294 [02:56<00:00, 12.96it/s, loss=2.12]\r\n",
      "SAVE MODEL\r\n",
      "100%|████████████████████████████| 5352/5352 [20:25<00:00,  4.37it/s, loss=2.05]\r\n",
      "100%|████████████████████████████| 2294/2294 [02:58<00:00, 12.87it/s, loss=2.09]\r\n",
      "SAVE MODEL\r\n",
      "100%|█████████████████████████████| 5352/5352 [20:25<00:00,  4.37it/s, loss=1.9]\r\n",
      "100%|████████████████████████████| 2294/2294 [02:56<00:00, 12.97it/s, loss=2.05]\r\n",
      "SAVE MODEL\r\n",
      "100%|████████████████████████████| 5352/5352 [20:23<00:00,  4.38it/s, loss=1.88]\r\n",
      "100%|████████████████████████████| 2294/2294 [02:56<00:00, 12.97it/s, loss=2.08]\r\n",
      "SAVE MODEL\r\n",
      "100%|█████████████████████████████| 5352/5352 [20:24<00:00,  4.37it/s, loss=1.9]\r\n",
      "100%|████████████████████████████| 2294/2294 [02:57<00:00, 12.91it/s, loss=2.06]\r\n",
      "SAVE MODEL\r\n"
     ]
    }
   ],
   "source": [
    "!python /kaggle/working/text-detoxification/src/models/train_model.py transformer --epochs 10 --batch_size 64"
   ]
  },
  {
   "cell_type": "code",
   "execution_count": null,
   "id": "1f27b31e",
   "metadata": {
    "papermill": {
     "duration": 4.395412,
     "end_time": "2023-10-08T18:24:12.738746",
     "exception": false,
     "start_time": "2023-10-08T18:24:08.343334",
     "status": "completed"
    },
    "tags": []
   },
   "outputs": [],
   "source": []
  },
  {
   "cell_type": "code",
   "execution_count": null,
   "id": "e6bcffad",
   "metadata": {
    "papermill": {
     "duration": 4.298013,
     "end_time": "2023-10-08T18:24:21.493128",
     "exception": false,
     "start_time": "2023-10-08T18:24:17.195115",
     "status": "completed"
    },
    "tags": []
   },
   "outputs": [],
   "source": []
  }
 ],
 "metadata": {
  "kernelspec": {
   "display_name": "Python 3",
   "language": "python",
   "name": "python3"
  },
  "language_info": {
   "codemirror_mode": {
    "name": "ipython",
    "version": 3
   },
   "file_extension": ".py",
   "mimetype": "text/x-python",
   "name": "python",
   "nbconvert_exporter": "python",
   "pygments_lexer": "ipython3",
   "version": "3.10.12"
  },
  "papermill": {
   "default_parameters": {},
   "duration": 14059.879181,
   "end_time": "2023-10-08T18:24:26.363896",
   "environment_variables": {},
   "exception": null,
   "input_path": "__notebook__.ipynb",
   "output_path": "__notebook__.ipynb",
   "parameters": {},
   "start_time": "2023-10-08T14:30:06.484715",
   "version": "2.4.0"
  }
 },
 "nbformat": 4,
 "nbformat_minor": 5
}
