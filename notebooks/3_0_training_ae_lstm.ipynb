{
 "cells": [
  {
   "cell_type": "code",
   "execution_count": 1,
   "id": "e4834283",
   "metadata": {
    "execution": {
     "iopub.execute_input": "2023-10-09T07:18:19.518952Z",
     "iopub.status.busy": "2023-10-09T07:18:19.518597Z",
     "iopub.status.idle": "2023-10-09T07:18:34.086115Z",
     "shell.execute_reply": "2023-10-09T07:18:34.084932Z"
    },
    "papermill": {
     "duration": 14.573117,
     "end_time": "2023-10-09T07:18:34.088427",
     "exception": false,
     "start_time": "2023-10-09T07:18:19.515310",
     "status": "completed"
    },
    "tags": []
   },
   "outputs": [
    {
     "name": "stdout",
     "output_type": "stream",
     "text": [
      "rm: cannot remove '/kaggle/working/text-detoxification': No such file or directory\r\n",
      "Cloning into 'text-detoxification'...\r\n",
      "remote: Enumerating objects: 444, done.\u001b[K\r\n",
      "remote: Counting objects: 100% (165/165), done.\u001b[K\r\n",
      "remote: Compressing objects: 100% (128/128), done.\u001b[K\r\n",
      "remote: Total 444 (delta 54), reused 130 (delta 27), pack-reused 279\u001b[K\r\n",
      "Receiving objects: 100% (444/444), 251.09 MiB | 26.18 MiB/s, done.\r\n",
      "Resolving deltas: 100% (184/184), done.\r\n"
     ]
    }
   ],
   "source": [
    "!rm -r /kaggle/working/text-detoxification\n",
    "\n",
    "!git clone https://github.com/Nagim123/text-detoxification.git --branch lstm"
   ]
  },
  {
   "cell_type": "code",
   "execution_count": 2,
   "id": "6f8acf7a",
   "metadata": {
    "execution": {
     "iopub.execute_input": "2023-10-09T07:18:34.097844Z",
     "iopub.status.busy": "2023-10-09T07:18:34.097419Z",
     "iopub.status.idle": "2023-10-09T07:20:10.749424Z",
     "shell.execute_reply": "2023-10-09T07:20:10.748273Z"
    },
    "papermill": {
     "duration": 96.659037,
     "end_time": "2023-10-09T07:20:10.751833",
     "exception": false,
     "start_time": "2023-10-09T07:18:34.092796",
     "status": "completed"
    },
    "tags": []
   },
   "outputs": [
    {
     "name": "stdout",
     "output_type": "stream",
     "text": [
      "/opt/conda/lib/python3.10/site-packages/scipy/__init__.py:146: UserWarning: A NumPy version >=1.16.5 and <1.23.0 is required for this version of SciPy (detected version 1.23.5\r\n",
      "  warnings.warn(f\"A NumPy version >={np_minversion} and <{np_maxversion}\"\r\n",
      "100%|████████████████████████████████| 489290/489290 [00:19<00:00, 25351.46it/s]\r\n",
      "100%|████████████████████████████████| 489290/489290 [00:20<00:00, 23370.19it/s]\r\n"
     ]
    }
   ],
   "source": [
    "!python /kaggle/working/text-detoxification/src/data/make_dataset.py --logging"
   ]
  },
  {
   "cell_type": "code",
   "execution_count": 3,
   "id": "f94c8087",
   "metadata": {
    "execution": {
     "iopub.execute_input": "2023-10-09T07:20:10.799569Z",
     "iopub.status.busy": "2023-10-09T07:20:10.799210Z",
     "iopub.status.idle": "2023-10-09T17:25:46.762341Z",
     "shell.execute_reply": "2023-10-09T17:25:46.760988Z"
    },
    "papermill": {
     "duration": 36335.991502,
     "end_time": "2023-10-09T17:25:46.764659",
     "exception": false,
     "start_time": "2023-10-09T07:20:10.773157",
     "status": "completed"
    },
    "tags": []
   },
   "outputs": [
    {
     "name": "stdout",
     "output_type": "stream",
     "text": [
      "100%|██████████████████████████| 5352/5352 [1:42:51<00:00,  1.15s/it, loss=5.08]\r\n",
      "100%|████████████████████████████| 2294/2294 [17:46<00:00,  2.15it/s, loss=4.89]\r\n",
      "SAVE MODEL\r\n",
      "100%|██████████████████████████| 5352/5352 [1:43:33<00:00,  1.16s/it, loss=4.99]\r\n",
      "100%|████████████████████████████| 2294/2294 [18:04<00:00,  2.12it/s, loss=4.47]\r\n",
      "SAVE MODEL\r\n",
      "100%|██████████████████████████| 5352/5352 [1:43:29<00:00,  1.16s/it, loss=4.34]\r\n",
      "100%|████████████████████████████| 2294/2294 [17:28<00:00,  2.19it/s, loss=4.41]\r\n",
      "SAVE MODEL\r\n",
      "100%|██████████████████████████| 5352/5352 [1:43:02<00:00,  1.16s/it, loss=4.26]\r\n",
      "100%|████████████████████████████| 2294/2294 [17:40<00:00,  2.16it/s, loss=4.27]\r\n",
      "SAVE MODEL\r\n",
      "100%|██████████████████████████| 5352/5352 [1:43:21<00:00,  1.16s/it, loss=4.18]\r\n",
      "100%|████████████████████████████| 2294/2294 [17:47<00:00,  2.15it/s, loss=4.01]\r\n",
      "SAVE MODEL\r\n"
     ]
    }
   ],
   "source": [
    "!python /kaggle/working/text-detoxification/src/models/train_model.py LSTM --epochs 5 --batch_size 64"
   ]
  },
  {
   "cell_type": "code",
   "execution_count": null,
   "id": "f9183dae",
   "metadata": {
    "papermill": {
     "duration": 2.107333,
     "end_time": "2023-10-09T17:25:51.000552",
     "exception": false,
     "start_time": "2023-10-09T17:25:48.893219",
     "status": "completed"
    },
    "tags": []
   },
   "outputs": [],
   "source": []
  }
 ],
 "metadata": {
  "kernelspec": {
   "display_name": "Python 3",
   "language": "python",
   "name": "python3"
  },
  "language_info": {
   "codemirror_mode": {
    "name": "ipython",
    "version": 3
   },
   "file_extension": ".py",
   "mimetype": "text/x-python",
   "name": "python",
   "nbconvert_exporter": "python",
   "pygments_lexer": "ipython3",
   "version": "3.10.12"
  },
  "papermill": {
   "default_parameters": {},
   "duration": 36457.237628,
   "end_time": "2023-10-09T17:25:53.427329",
   "environment_variables": {},
   "exception": null,
   "input_path": "__notebook__.ipynb",
   "output_path": "__notebook__.ipynb",
   "parameters": {},
   "start_time": "2023-10-09T07:18:16.189701",
   "version": "2.4.0"
  }
 },
 "nbformat": 4,
 "nbformat_minor": 5
}
