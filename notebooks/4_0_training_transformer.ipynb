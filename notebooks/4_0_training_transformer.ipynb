{
 "cells": [
  {
   "cell_type": "raw",
   "id": "f9748bbc",
   "metadata": {
    "papermill": {
     "duration": 0.002362,
     "end_time": "2023-10-18T12:44:18.330195",
     "exception": false,
     "start_time": "2023-10-18T12:44:18.327833",
     "status": "completed"
    },
    "tags": []
   },
   "source": [
    "!rm -r /kaggle/working/text-detoxification"
   ]
  },
  {
   "cell_type": "code",
   "execution_count": 1,
   "id": "decc6151",
   "metadata": {
    "execution": {
     "iopub.execute_input": "2023-10-18T12:44:18.335770Z",
     "iopub.status.busy": "2023-10-18T12:44:18.335430Z",
     "iopub.status.idle": "2023-10-18T12:44:25.960769Z",
     "shell.execute_reply": "2023-10-18T12:44:25.959678Z"
    },
    "papermill": {
     "duration": 7.630707,
     "end_time": "2023-10-18T12:44:25.962951",
     "exception": false,
     "start_time": "2023-10-18T12:44:18.332244",
     "status": "completed"
    },
    "tags": []
   },
   "outputs": [
    {
     "name": "stdout",
     "output_type": "stream",
     "text": [
      "Cloning into 'text-detoxification'...\r\n",
      "remote: Enumerating objects: 719, done.\u001b[K\r\n",
      "remote: Counting objects: 100% (263/263), done.\u001b[K\r\n",
      "remote: Compressing objects: 100% (177/177), done.\u001b[K\r\n",
      "remote: Total 719 (delta 131), reused 195 (delta 80), pack-reused 456\u001b[K\r\n",
      "Receiving objects: 100% (719/719), 125.76 MiB | 32.60 MiB/s, done.\r\n",
      "Resolving deltas: 100% (298/298), done.\r\n"
     ]
    }
   ],
   "source": [
    "!git clone https://github.com/Nagim123/text-detoxification.git"
   ]
  },
  {
   "cell_type": "code",
   "execution_count": 2,
   "id": "1e28f128",
   "metadata": {
    "execution": {
     "iopub.execute_input": "2023-10-18T12:44:25.970567Z",
     "iopub.status.busy": "2023-10-18T12:44:25.969742Z",
     "iopub.status.idle": "2023-10-18T12:46:18.494742Z",
     "shell.execute_reply": "2023-10-18T12:46:18.493786Z"
    },
    "papermill": {
     "duration": 112.531006,
     "end_time": "2023-10-18T12:46:18.496785",
     "exception": false,
     "start_time": "2023-10-18T12:44:25.965779",
     "status": "completed"
    },
    "tags": []
   },
   "outputs": [
    {
     "name": "stdout",
     "output_type": "stream",
     "text": [
      "/opt/conda/lib/python3.10/site-packages/scipy/__init__.py:146: UserWarning: A NumPy version >=1.16.5 and <1.23.0 is required for this version of SciPy (detected version 1.23.5\r\n",
      "  warnings.warn(f\"A NumPy version >={np_minversion} and <{np_maxversion}\"\r\n",
      "100%|████████████████████████████████| 489290/489290 [00:19<00:00, 25556.14it/s]\r\n",
      "100%|████████████████████████████████| 489290/489290 [00:19<00:00, 25016.97it/s]\r\n",
      "100%|███████████████████████████████| 489290/489290 [00:02<00:00, 189606.43it/s]\r\n",
      "100%|███████████████████████████████| 489290/489290 [00:03<00:00, 162547.72it/s]\r\n"
     ]
    }
   ],
   "source": [
    "!python /kaggle/working/text-detoxification/src/data/make_dataset.py --logging"
   ]
  },
  {
   "cell_type": "code",
   "execution_count": 3,
   "id": "a39b5f12",
   "metadata": {
    "execution": {
     "iopub.execute_input": "2023-10-18T12:46:18.543268Z",
     "iopub.status.busy": "2023-10-18T12:46:18.542412Z",
     "iopub.status.idle": "2023-10-18T18:32:25.690412Z",
     "shell.execute_reply": "2023-10-18T18:32:25.689435Z"
    },
    "papermill": {
     "duration": 20767.173295,
     "end_time": "2023-10-18T18:32:25.692430",
     "exception": false,
     "start_time": "2023-10-18T12:46:18.519135",
     "status": "completed"
    },
    "tags": []
   },
   "outputs": [
    {
     "name": "stdout",
     "output_type": "stream",
     "text": [
      "Epoch: 0\r\n",
      "100%|████████████████████████████| 5352/5352 [20:04<00:00,  4.44it/s, loss=3.16]\r\n",
      "100%|████████████████████████████| 2294/2294 [02:49<00:00, 13.52it/s, loss=2.56]\r\n",
      "Average train loss:3.172052160907754 \r\n",
      " Average validation loss:2.5609337828319387\r\n",
      "Epoch: 1\r\n",
      "100%|████████████████████████████| 5352/5352 [20:10<00:00,  4.42it/s, loss=2.83]\r\n",
      "100%|████████████████████████████| 2294/2294 [02:49<00:00, 13.52it/s, loss=2.28]\r\n",
      "Average train loss:2.481974703247237 \r\n",
      " Average validation loss:2.3581102970588073\r\n",
      "Epoch: 2\r\n",
      "100%|████████████████████████████| 5352/5352 [20:11<00:00,  4.42it/s, loss=2.72]\r\n",
      "100%|████████████████████████████| 2294/2294 [02:49<00:00, 13.50it/s, loss=2.19]\r\n",
      "Average train loss:2.2904838891129145 \r\n",
      " Average validation loss:2.2581220969181013\r\n",
      "Epoch: 3\r\n",
      "100%|████████████████████████████| 5352/5352 [20:11<00:00,  4.42it/s, loss=2.61]\r\n",
      "100%|████████████████████████████| 2294/2294 [02:50<00:00, 13.49it/s, loss=2.14]\r\n",
      "Average train loss:2.1744961407598002 \r\n",
      " Average validation loss:2.1959214632991304\r\n",
      "Epoch: 4\r\n",
      "100%|████████████████████████████| 5352/5352 [20:11<00:00,  4.42it/s, loss=2.53]\r\n",
      "100%|████████████████████████████| 2294/2294 [02:50<00:00, 13.47it/s, loss=2.07]\r\n",
      "Average train loss:2.0893502206679417 \r\n",
      " Average validation loss:2.159010399292112\r\n",
      "Epoch: 5\r\n",
      "100%|████████████████████████████| 5352/5352 [20:12<00:00,  4.42it/s, loss=2.49]\r\n",
      "100%|████████████████████████████| 2294/2294 [02:50<00:00, 13.45it/s, loss=2.09]\r\n",
      "Average train loss:2.021357648909894 \r\n",
      " Average validation loss:2.1248221740893105\r\n",
      "Epoch: 6\r\n",
      "100%|████████████████████████████| 5352/5352 [20:12<00:00,  4.41it/s, loss=2.41]\r\n",
      "100%|████████████████████████████| 2294/2294 [02:50<00:00, 13.42it/s, loss=2.05]\r\n",
      "Average train loss:1.9663648009300232 \r\n",
      " Average validation loss:2.1067008515909222\r\n",
      "Epoch: 7\r\n",
      "100%|████████████████████████████| 5352/5352 [20:13<00:00,  4.41it/s, loss=2.38]\r\n",
      "100%|████████████████████████████| 2294/2294 [02:50<00:00, 13.43it/s, loss=2.08]\r\n",
      "Average train loss:1.9183977176567542 \r\n",
      " Average validation loss:2.0867534114572415\r\n",
      "Epoch: 8\r\n",
      "100%|████████████████████████████| 5352/5352 [20:13<00:00,  4.41it/s, loss=2.28]\r\n",
      "100%|████████████████████████████| 2294/2294 [02:50<00:00, 13.43it/s, loss=2.07]\r\n",
      "Average train loss:1.8769471400343605 \r\n",
      " Average validation loss:2.073725482278423\r\n",
      "Epoch: 9\r\n",
      "100%|████████████████████████████| 5352/5352 [20:12<00:00,  4.41it/s, loss=2.26]\r\n",
      "100%|████████████████████████████| 2294/2294 [02:51<00:00, 13.41it/s, loss=2.03]\r\n",
      "Average train loss:1.839893155746574 \r\n",
      " Average validation loss:2.0643860599531125\r\n",
      "Epoch: 10\r\n",
      "100%|████████████████████████████| 5352/5352 [20:15<00:00,  4.40it/s, loss=2.18]\r\n",
      "100%|████████████████████████████| 2294/2294 [02:51<00:00, 13.39it/s, loss=2.08]\r\n",
      "Average train loss:1.8053899872240642 \r\n",
      " Average validation loss:2.060313284656954\r\n",
      "Epoch: 11\r\n",
      "100%|████████████████████████████| 5352/5352 [20:16<00:00,  4.40it/s, loss=2.23]\r\n",
      "100%|████████████████████████████| 2294/2294 [02:51<00:00, 13.38it/s, loss=1.99]\r\n",
      "Average train loss:1.775499600755616 \r\n",
      " Average validation loss:2.051639650267108\r\n",
      "Epoch: 12\r\n",
      "100%|████████████████████████████| 5352/5352 [20:14<00:00,  4.41it/s, loss=2.11]\r\n",
      "100%|████████████████████████████| 2294/2294 [02:51<00:00, 13.40it/s, loss=2.04]\r\n",
      "Average train loss:1.7469151405609242 \r\n",
      " Average validation loss:2.048263537540785\r\n",
      "Epoch: 13\r\n",
      "100%|████████████████████████████| 5352/5352 [20:14<00:00,  4.41it/s, loss=2.13]\r\n",
      "100%|████████████████████████████| 2294/2294 [02:50<00:00, 13.44it/s, loss=2.07]\r\n",
      "Average train loss:1.7206173565667484 \r\n",
      " Average validation loss:2.0484922079803014\r\n",
      "Epoch: 14\r\n",
      "100%|████████████████████████████| 5352/5352 [20:14<00:00,  4.41it/s, loss=2.06]\r\n",
      "100%|████████████████████████████| 2294/2294 [02:51<00:00, 13.41it/s, loss=2.08]\r\n",
      "Average train loss:1.6965503847429748 \r\n",
      " Average validation loss:2.049801979100278\r\n"
     ]
    }
   ],
   "source": [
    "!python /kaggle/working/text-detoxification/src/models/train_model.py transformer --epochs 15 --batch_size 64"
   ]
  },
  {
   "cell_type": "code",
   "execution_count": null,
   "id": "fbe5cc1e",
   "metadata": {
    "papermill": {
     "duration": 7.66358,
     "end_time": "2023-10-18T18:32:41.050091",
     "exception": false,
     "start_time": "2023-10-18T18:32:33.386511",
     "status": "completed"
    },
    "tags": []
   },
   "outputs": [],
   "source": []
  },
  {
   "cell_type": "code",
   "execution_count": null,
   "id": "f24fc8a1",
   "metadata": {
    "papermill": {
     "duration": 7.70266,
     "end_time": "2023-10-18T18:32:56.053561",
     "exception": false,
     "start_time": "2023-10-18T18:32:48.350901",
     "status": "completed"
    },
    "tags": []
   },
   "outputs": [],
   "source": []
  }
 ],
 "metadata": {
  "kernelspec": {
   "display_name": "Python 3",
   "language": "python",
   "name": "python3"
  },
  "language_info": {
   "codemirror_mode": {
    "name": "ipython",
    "version": 3
   },
   "file_extension": ".py",
   "mimetype": "text/x-python",
   "name": "python",
   "nbconvert_exporter": "python",
   "pygments_lexer": "ipython3",
   "version": "3.10.12"
  },
  "papermill": {
   "default_parameters": {},
   "duration": 20929.889473,
   "end_time": "2023-10-18T18:33:03.750934",
   "environment_variables": {},
   "exception": null,
   "input_path": "__notebook__.ipynb",
   "output_path": "__notebook__.ipynb",
   "parameters": {},
   "start_time": "2023-10-18T12:44:13.861461",
   "version": "2.4.0"
  }
 },
 "nbformat": 4,
 "nbformat_minor": 5
}
